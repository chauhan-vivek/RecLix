{
 "cells": [
  {
   "cell_type": "code",
   "execution_count": 2,
   "metadata": {},
   "outputs": [],
   "source": [
    "import pandas as pd\n",
    "import os\n",
    "from rake_nltk import Rake\n",
    "from sklearn.metrics.pairwise import cosine_similarity\n",
    "from sklearn.feature_extraction.text import CountVectorizer"
   ]
  },
  {
   "cell_type": "code",
   "execution_count": 3,
   "metadata": {},
   "outputs": [],
   "source": [
    "#read file from path into a pandas dataframe\n",
    "path = 'C:/Users/hp/Desktop/rec-flix/data/raw/'\n",
    "filename = 'netflix_titles.csv'\n",
    "df = pd.read_csv(os.path.join(path, filename))"
   ]
  },
  {
   "cell_type": "code",
   "execution_count": 4,
   "metadata": {},
   "outputs": [
    {
     "name": "stdout",
     "output_type": "stream",
     "text": [
      "Number of columns with Null values: 2\n"
     ]
    }
   ],
   "source": [
    "df_bow=df[['title','director','cast','listed_in','description']]\n",
    "print(f'Number of columns with Null values: {df_bow.isna().any().sum()}')"
   ]
  },
  {
   "cell_type": "code",
   "execution_count": 5,
   "metadata": {},
   "outputs": [
    {
     "name": "stdout",
     "output_type": "stream",
     "text": [
      "Now, are there Na values: False\n"
     ]
    },
    {
     "name": "stderr",
     "output_type": "stream",
     "text": [
      "C:\\Users\\hp\\AppData\\Local\\Temp\\ipykernel_12464\\1070907356.py:2: SettingWithCopyWarning: \n",
      "A value is trying to be set on a copy of a slice from a DataFrame\n",
      "\n",
      "See the caveats in the documentation: https://pandas.pydata.org/pandas-docs/stable/user_guide/indexing.html#returning-a-view-versus-a-copy\n",
      "  df_bow.dropna(inplace=True)\n"
     ]
    }
   ],
   "source": [
    "#drop na values\n",
    "df_bow.dropna(inplace=True)\n",
    "print(f'Now, are there Na values: {True if df_bow.isna().any().sum() else False}')"
   ]
  },
  {
   "cell_type": "code",
   "execution_count": 6,
   "metadata": {},
   "outputs": [
    {
     "name": "stderr",
     "output_type": "stream",
     "text": [
      "C:\\Users\\hp\\AppData\\Local\\Temp\\ipykernel_12464\\590408319.py:8: SettingWithCopyWarning: \n",
      "A value is trying to be set on a copy of a slice from a DataFrame\n",
      "\n",
      "See the caveats in the documentation: https://pandas.pydata.org/pandas-docs/stable/user_guide/indexing.html#returning-a-view-versus-a-copy\n",
      "  df_bow.drop(columns=['description'],inplace=True)\n",
      "C:\\Users\\hp\\AppData\\Local\\Temp\\ipykernel_12464\\590408319.py:10: SettingWithCopyWarning: \n",
      "A value is trying to be set on a copy of a slice from a DataFrame.\n",
      "Try using .loc[row_indexer,col_indexer] = value instead\n",
      "\n",
      "See the caveats in the documentation: https://pandas.pydata.org/pandas-docs/stable/user_guide/indexing.html#returning-a-view-versus-a-copy\n",
      "  df_bow['cast'] = df_bow['cast'].map(lambda x : x.split(',')[:3])\n",
      "C:\\Users\\hp\\AppData\\Local\\Temp\\ipykernel_12464\\590408319.py:11: SettingWithCopyWarning: \n",
      "A value is trying to be set on a copy of a slice from a DataFrame.\n",
      "Try using .loc[row_indexer,col_indexer] = value instead\n",
      "\n",
      "See the caveats in the documentation: https://pandas.pydata.org/pandas-docs/stable/user_guide/indexing.html#returning-a-view-versus-a-copy\n",
      "  df_bow['listed_in'] = df_bow['listed_in'].map(lambda x: x.lower().split(','))\n",
      "C:\\Users\\hp\\AppData\\Local\\Temp\\ipykernel_12464\\590408319.py:12: SettingWithCopyWarning: \n",
      "A value is trying to be set on a copy of a slice from a DataFrame.\n",
      "Try using .loc[row_indexer,col_indexer] = value instead\n",
      "\n",
      "See the caveats in the documentation: https://pandas.pydata.org/pandas-docs/stable/user_guide/indexing.html#returning-a-view-versus-a-copy\n",
      "  df_bow['director'] = df_bow['director'].map(lambda x: x.split(' '))\n",
      "C:\\Users\\hp\\AppData\\Local\\Temp\\ipykernel_12464\\590408319.py:20: SettingWithCopyWarning: \n",
      "A value is trying to be set on a copy of a slice from a DataFrame.\n",
      "Try using .loc[row_indexer,col_indexer] = value instead\n",
      "\n",
      "See the caveats in the documentation: https://pandas.pydata.org/pandas-docs/stable/user_guide/indexing.html#returning-a-view-versus-a-copy\n",
      "  df_bow['bag_of_words']=\"\"\n",
      "C:\\Users\\hp\\AppData\\Local\\Temp\\ipykernel_12464\\590408319.py:31: SettingWithCopyWarning: \n",
      "A value is trying to be set on a copy of a slice from a DataFrame\n",
      "\n",
      "See the caveats in the documentation: https://pandas.pydata.org/pandas-docs/stable/user_guide/indexing.html#returning-a-view-versus-a-copy\n",
      "  df_bow.drop(columns=[col for col in df_bow.columns if col!='bag_of_words'],inplace=True)\n"
     ]
    }
   ],
   "source": [
    "for index,row in df_bow.iterrows():\n",
    "    description=row['description']\n",
    "    r=Rake()\n",
    "    r.extract_keywords_from_text(description)\n",
    "    key_words_dict_scores=r.get_word_degrees()\n",
    "    row['Key_words']=list(key_words_dict_scores.keys())\n",
    "\n",
    "df_bow.drop(columns=['description'],inplace=True)\n",
    "\n",
    "df_bow['cast'] = df_bow['cast'].map(lambda x : x.split(',')[:3])\n",
    "df_bow['listed_in'] = df_bow['listed_in'].map(lambda x: x.lower().split(','))\n",
    "df_bow['director'] = df_bow['director'].map(lambda x: x.split(' '))\n",
    "\n",
    "for index,row in df_bow.iterrows():\n",
    "    row['cast']= [x.lower().replace(',',' ') for x in row['cast']]\n",
    "    row['director']=''.join(row['director']).lower()\n",
    "\n",
    "df_bow.set_index('title',inplace=True)\n",
    "\n",
    "df_bow['bag_of_words']=\"\"\n",
    "columns=df_bow.columns\n",
    "for index,row in df_bow.iterrows():\n",
    "    words= \"\"\n",
    "    for col in columns:\n",
    "        if col != 'director':\n",
    "            words= words + ' '.join(row[col])+ ' '\n",
    "        else:\n",
    "            words= words + row[col] + ' '\n",
    "    row['bag_of_words']=words\n",
    "\n",
    "df_bow.drop(columns=[col for col in df_bow.columns if col!='bag_of_words'],inplace=True)"
   ]
  },
  {
   "cell_type": "code",
   "execution_count": 8,
   "metadata": {},
   "outputs": [],
   "source": [
    "count=CountVectorizer()\n",
    "count_matrix=count.fit_transform(df_bow['bag_of_words'])\n",
    "indices=pd.Series(df_bow.index)\n",
    "cosine_sim=cosine_similarity(count_matrix,count_matrix)"
   ]
  },
  {
   "cell_type": "code",
   "execution_count": 9,
   "metadata": {},
   "outputs": [],
   "source": [
    "def recommendations(Title,cosine_sim=cosine_sim):\n",
    "    recommended_movies=[]\n",
    "    idx=indices[indices==Title].index[0]\n",
    "    score_series=pd.Series(cosine_sim[idx]).sort_values(ascending=False)\n",
    "    top_10_indexes=list(score_series.iloc[1:11].index)\n",
    "    \n",
    "    for i in top_10_indexes:\n",
    "        recommended_movies.append(list(df_bow.index)[i])\n",
    "    return recommended_movies"
   ]
  },
  {
   "cell_type": "code",
   "execution_count": 18,
   "metadata": {},
   "outputs": [
    {
     "name": "stdout",
     "output_type": "stream",
     "text": [
      "Movies recommended based on your input are :\n",
      " ['Talaash', 'PK', 'Gori Tere Pyaar Mein', 'Raja Hindustani', 'Ek Main Aur Ekk Tu', 'Dil Chahta Hai', 'Dil', 'Kapoor & Sons', 'Chup Chup Ke', 'Bewafaa']\n"
     ]
    }
   ],
   "source": [
    "recommended_movies = recommendations('3 Idiots')\n",
    "print(f\"Movies recommended based on your input are :\\n {recommended_movies}\")"
   ]
  },
  {
   "cell_type": "code",
   "execution_count": 19,
   "metadata": {},
   "outputs": [
    {
     "name": "stdout",
     "output_type": "stream",
     "text": [
      "Movies recommended based on your input are :\n",
      " ['Bad Boys II', 'Blue Streak', 'Wild Wild West', 'Men in Black II', 'Men in Black', 'The Other Guys', \"King's Ransom\", 'Bright', 'The Super Parental Guardians', 'Talladega Nights: The Ballad of Ricky Bobby']\n"
     ]
    }
   ],
   "source": [
    "recommended_movies = recommendations('Bad Boys')\n",
    "print(f\"Movies recommended based on your input are :\\n {recommended_movies}\")"
   ]
  }
 ],
 "metadata": {
  "kernelspec": {
   "display_name": "Python 3 (ipykernel)",
   "language": "python",
   "name": "python3"
  },
  "language_info": {
   "codemirror_mode": {
    "name": "ipython",
    "version": 3
   },
   "file_extension": ".py",
   "mimetype": "text/x-python",
   "name": "python",
   "nbconvert_exporter": "python",
   "pygments_lexer": "ipython3",
   "version": "3.9.7"
  },
  "vscode": {
   "interpreter": {
    "hash": "e96efbb85d1a4e5e12fec89ed41d6b314653a99c1bcb1f6e2746c89f5861a009"
   }
  }
 },
 "nbformat": 4,
 "nbformat_minor": 2
}
